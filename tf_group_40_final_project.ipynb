{
 "cells": [
  {
   "cell_type": "markdown",
   "metadata": {},
   "source": [
    "# Cycle Gan Implementation"
   ]
  },
  {
   "cell_type": "code",
   "execution_count": 223,
   "metadata": {},
   "outputs": [],
   "source": [
    "# import relevant libraries\n",
    "# TODO: in the end, check if any of them are unused -> if yes, delete the respective imports\n",
    "import functools\n",
    "import matplotlib.pyplot as plt\n",
    "import numpy as np\n",
    "from PIL import Image\n",
    "import scipy.io\n",
    "import struct\n",
    "import tensorflow as tf\n",
    "%matplotlib inline"
   ]
  },
  {
   "cell_type": "code",
   "execution_count": 224,
   "metadata": {},
   "outputs": [],
   "source": [
    "# helper functions\n",
    "# TODO: maybe delete some of them, if not needed\n",
    "# We will define functions for the layers so our code is not redundant.\n",
    "\n",
    "def feed_forward_layer(x, hidden_n, activation_fn, normalize):        \n",
    "    initializer = tf.random_normal_initializer(stddev=0.02)\n",
    "\n",
    "    weights = tf.get_variable(\"weights\", [x.shape[1], hidden_n], tf.float32, initializer)\n",
    "    biases = tf.get_variable(\"biases\", [hidden_n], tf.float32, tf.zeros_initializer())\n",
    "    \n",
    "    drive = tf.matmul(x, weights) + biases\n",
    "    \n",
    "    if normalize:\n",
    "        drive = batch_norm(drive, [0])\n",
    "    \n",
    "    if activation_fn == 'linear':\n",
    "        return drive\n",
    "    else:\n",
    "        return activation_fn(drive)\n",
    "\n",
    "\n",
    "\n",
    "def conv_layer(x, kernels_n, kernel_size, stride_size, activation_fn, normalize, pad=\"SAME\"):\n",
    "    initializer = tf.random_normal_initializer(stddev=0.02)\n",
    "    \n",
    "    kernels = tf.get_variable(\"kernels\", [kernel_size, kernel_size, x.shape[-1], kernels_n], tf.float32, initializer)\n",
    "    biases = tf.get_variable(\"biases\", [kernels_n], tf.float32, tf.zeros_initializer())\n",
    "    \n",
    "    # valid padding, because no additional padding is necessary (reflection padding has already been applied)\n",
    "    drive = tf.nn.conv2d(x, kernels, strides = [1, stride_size, stride_size, 1], padding = pad) + biases\n",
    "    \n",
    "    if normalize:\n",
    "        drive = batch_norm(drive, [0,1,2])\n",
    "    \n",
    "    if activation_fn == 'linear':\n",
    "        return drive\n",
    "    else:\n",
    "        return activation_fn(drive)\n",
    "\n",
    "\n",
    "\n",
    "\n",
    "def back_conv_layer(x, target_shape, kernel_size, stride_size, activation_fn, normalize, pad=\"SAME\"):\n",
    "    initializer = tf.random_normal_initializer(stddev=0.02)\n",
    "    \n",
    "    kernels = tf.get_variable(\"kernels\", [kernel_size, kernel_size, target_shape[-1], x.shape[-1]], tf.float32, initializer)\n",
    "    biases = tf.get_variable(\"biases\", [target_shape[-1]], tf.float32, tf.zeros_initializer())\n",
    "    #TODO: Maybe change padding back to same\n",
    "    drive = tf.nn.conv2d_transpose(x, kernels, target_shape, strides = [1, stride_size, stride_size, 1], padding = pad) + biases\n",
    "    \n",
    "    if normalize:\n",
    "        drive = batch_norm(drive, [0,1,2])\n",
    "    \n",
    "    return activation_fn(drive)\n",
    "\n",
    "\n",
    "def flatten(x):\n",
    "    size = int(np.prod(x.shape[1:]))\n",
    "    return tf.reshape(x, [-1, size])\n",
    "\n",
    "# TODO: instance normalization instead of batch normalization\n",
    "\n",
    "def batch_norm(x, axes):\n",
    "    mean, var = tf.nn.moments(x, axes = axes)\n",
    "    \n",
    "    offset_initializer = tf.constant_initializer(0.0)\n",
    "    offset = tf.get_variable(\"offset\", [x.shape[-1]], tf.float32, offset_initializer)\n",
    "    scale_initializer = tf.constant_initializer(1.0)\n",
    "    scale = tf.get_variable(\"scale\", [x.shape[-1]], tf.float32, scale_initializer)\n",
    "    \n",
    "    return tf.nn.batch_normalization(x, mean, var, offset, scale, 1e-6)\n",
    "\n",
    "def residual_block(x, scope):\n",
    "    with tf.variable_scope(scope, reuse=tf.AUTO_REUSE):\n",
    "        #apply reflection padding\n",
    "        res_block = tf.pad(x, [[0,0,], [1,1,], [1,1,], [0,0,]], \"REFLECT\")\n",
    "        res_block = conv_layer(res_block, 256, 3, 1, tf.nn.relu, True, pad=\"VALID\")\n",
    "        res_block = tf.pad(res_block, [[0,0,], [1,1,], [1,1,], [0,0,]], \"REFLECT\")\n",
    "        res_block = conv_layer(res_block, 256, 3, 1, \"linear\", True, pad=\"VALID\")\n",
    "        return tf.nn.relu(res_block + x)\n",
    "    "
   ]
  },
  {
   "cell_type": "code",
   "execution_count": 225,
   "metadata": {},
   "outputs": [
    {
     "name": "stdout",
     "output_type": "stream",
     "text": [
      "(60000, 28, 28, 1)\n"
     ]
    }
   ],
   "source": [
    "# read MNIST data (only training data)\n",
    "# TODO: maybe add and process test data\n",
    "# our domain X\n",
    "def read_idx(filename):\n",
    "    with open(filename, 'rb') as f:\n",
    "        zero, data_type, dims = struct.unpack('>HBB', f.read(4))\n",
    "        shape = tuple(struct.unpack('>I', f.read(4))[0] for d in range(dims))\n",
    "        return np.frombuffer(f.read(), dtype=np.uint8).reshape(shape)\n",
    "    \n",
    "mnist_images = read_idx('./MNIST/train-images-idx3-ubyte')\n",
    "mnist_labels = read_idx('./MNIST/train-labels-idx1-ubyte')\n",
    "\n",
    "# Normalize the training data.\n",
    "mnist_images = np.expand_dims(mnist_images, 3)\n",
    "print(mnist_images.shape)\n",
    "# TODO: maybe delete, not sure if we need to normalize\n",
    "normalized_mnist_images = (mnist_images / 255) * 2 - 1"
   ]
  },
  {
   "cell_type": "code",
   "execution_count": 226,
   "metadata": {},
   "outputs": [
    {
     "data": {
      "image/png": "[encoded data removed]",
      "text/plain": [
       "<Figure size 720x720 with 10 Axes>"
      ]
     },
     "metadata": {
      "needs_background": "light"
     },
     "output_type": "display_data"
    }
   ],
   "source": [
    "# show some mnist images with labels\n",
    "fig, ax = plt.subplots(1,10,figsize=(10,10))\n",
    "for i in range(10):\n",
    "    ax[i].imshow(mnist_images[i,:,:,0])\n",
    "    ax[i].axis('off')\n",
    "    ax[i].set_title(mnist_labels[i])"
   ]
  },
  {
   "cell_type": "code",
   "execution_count": 227,
   "metadata": {},
   "outputs": [
    {
     "name": "stdout",
     "output_type": "stream",
     "text": [
      "73257\n"
     ]
    }
   ],
   "source": [
    "# read SVHN data (only training data)\n",
    "# TODO: maybe add test data\n",
    "# our domain Y\n",
    "\n",
    "def load_svhn(path):\n",
    "    \n",
    "    matfile = scipy.io.loadmat(path)\n",
    "    images = matfile['X']\n",
    "    images = np.expand_dims(images,0)\n",
    "    images = np.swapaxes(images, 0,4)\n",
    "    images = np.squeeze(images)\n",
    "    labels = matfile['y']\n",
    "    labels = np.squeeze(labels)\n",
    "    print(len(labels))\n",
    "    \n",
    "    svhn_images = images[10000:,:,:,:]\n",
    "    svhn_labels = labels[10000:]\n",
    "    \n",
    "    return svhn_images, svhn_labels\n",
    "\n",
    "\n",
    "svhn_images, svhn_labels = load_svhn('./SVHN/train_32x32.mat')"
   ]
  },
  {
   "cell_type": "code",
   "execution_count": 228,
   "metadata": {},
   "outputs": [
    {
     "data": {
      "image/png": "[encoded data removed]",
      "text/plain": [
       "<Figure size 720x720 with 10 Axes>"
      ]
     },
     "metadata": {
      "needs_background": "light"
     },
     "output_type": "display_data"
    }
   ],
   "source": [
    "# show some svhn images with labels\n",
    "fig, ax = plt.subplots(1,10,figsize=(10,10))\n",
    "for i in range(10):\n",
    "    ax[i].imshow(svhn_images[i,:,:,0])\n",
    "    ax[i].axis('off')\n",
    "    ax[i].set_title(svhn_labels[i])"
   ]
  },
  {
   "cell_type": "code",
   "execution_count": 229,
   "metadata": {},
   "outputs": [],
   "source": [
    "# Define the hyperparameters of the model.\n",
    "\n",
    "batch_size = 1\n",
    "\n",
    "image_buffer_size = 50\n",
    "\n",
    "\n",
    "\n"
   ]
  },
  {
   "cell_type": "code",
   "execution_count": 230,
   "metadata": {},
   "outputs": [],
   "source": [
    "tf.reset_default_graph()\n",
    "\n",
    "# TODO: maybe use normalized images\n",
    "# Create the datasets.\n",
    "mnist_dataset = tf.data.Dataset.from_tensor_slices((mnist_images, mnist_labels))\n",
    "svhn_dataset = tf.data.Dataset.from_tensor_slices((svhn_images, svhn_labels))\n",
    "\n",
    "\n",
    "# Shuffle the training data in each iteration.\n",
    "mnist_dataset = mnist_dataset.shuffle(buffer_size = 60000)\n",
    "svhn_dataset = svhn_dataset.shuffle(buffer_size = 73257)\n",
    "\n",
    "# Specify the batch sizes.\n",
    "mnist_dataset = mnist_dataset.batch(batch_size, drop_remainder=True)\n",
    "svhn_dataset = svhn_dataset.batch(batch_size, drop_remainder=True)"
   ]
  },
  {
   "cell_type": "code",
   "execution_count": 231,
   "metadata": {},
   "outputs": [],
   "source": [
    "# Create the iterators.\n",
    "mnist_iterator = tf.data.Iterator.from_structure(mnist_dataset.output_types,\n",
    "                                           mnist_dataset.output_shapes)\n",
    "svhn_iterator = tf.data.Iterator.from_structure(svhn_dataset.output_types,\n",
    "                                           svhn_dataset.output_shapes)\n",
    "\n",
    "# Name the operations that will give the next batch and name the \n",
    "# initialization operations.\n",
    "next_batch_mnist = mnist_iterator.get_next()\n",
    "next_batch_svhn = svhn_iterator.get_next()\n",
    "\n",
    "training_init_op_mnist = mnist_iterator.make_initializer(mnist_dataset)\n",
    "training_init_op_svhn = svhn_iterator.make_initializer(svhn_dataset)"
   ]
  },
  {
   "cell_type": "markdown",
   "metadata": {},
   "source": [
    "# Generators"
   ]
  },
  {
   "cell_type": "code",
   "execution_count": 232,
   "metadata": {},
   "outputs": [],
   "source": [
    "# From the paper: \n",
    "#Let c7s1-k denote a 7 × 7 Convolution-InstanceNorm- ReLU layer with k filters and stride 1. \n",
    "#dk denotes a 3 × 3 Convolution-InstanceNorm-ReLU layer with k filters and stride 2. \n",
    "#Reflection padding was used to reduce artifacts. \n",
    "#Rk denotes a residual block that contains two 3 × 3 con- volutional layers with the same number of filters \n",
    "#on both layer. uk denotes a 3 × 3 fractional-strided-Convolution- InstanceNorm-ReLU layer with k filters \n",
    "#and stride 1 .\n",
    "#The network with 6 residual blocks consists of:\n",
    "#c7s1-64,d128,d256,R256,R256,R256,\n",
    "#R256,R256,R256,u128,u64,c7s1-3"
   ]
  },
  {
   "cell_type": "code",
   "execution_count": 233,
   "metadata": {},
   "outputs": [],
   "source": [
    "# generator G: X->Y\n",
    "\n",
    "# TODO: maybe reduce numbers of kernels - runtime might be astronomical!\n",
    "# TODO: maybe reduce duplicate code\n",
    "\n",
    "mnist_real = tf.cast(next_batch_mnist[0], dtype=tf.float32)\n",
    "\n",
    "#TODO: attention! probably wrong dimensions for padding -> needs to be corrected\n",
    "# kernel size 7 -> padding 3\n",
    "\n",
    "def G(mnist_real):\n",
    "    # generator network\n",
    "    with tf.variable_scope(\"G_first_layer\", reuse=tf.AUTO_REUSE):\n",
    "        #apply reflection padding\n",
    "        # padding of 5 instead of 3 to compensate for different sizes of svhn and mnist images\n",
    "        padded_mnist_input = tf.pad(mnist_real, [[0,0,], [5,5,], [5,5,], [0,0,]], \"REFLECT\")\n",
    "        gen_G_layer_1 = conv_layer(padded_mnist_input, 64, 7, 1, tf.nn.relu, True, pad=\"VALID\")\n",
    "\n",
    "    with tf.variable_scope(\"G_downsampling_layer_1\", reuse=tf.AUTO_REUSE):\n",
    "        #apply reflection padding\n",
    "        #gen_G_layer_2 = tf.pad(gen_G_layer_1, [[0,0,], [1,1,], [1,1,], [0,0,]], \"REFLECT\")\n",
    "        gen_G_layer_2 = conv_layer(gen_G_layer_1, 128, 3, 2, tf.nn.relu, True)\n",
    "    with tf.variable_scope(\"G_downsampling_layer_2\", reuse=tf.AUTO_REUSE):\n",
    "        #apply reflection padding\n",
    "        #gen_G_layer_3 = tf.pad(gen_G_layer_2, [[0,0,], [1,1,], [1,1,], [0,0,]], \"REFLECT\")\n",
    "        gen_G_layer_3 = conv_layer(gen_G_layer_2, 256, 3, 2, tf.nn.relu, True)\n",
    "\n",
    "    #TODO: maybe remove variable scope for residual blocks\n",
    "    with tf.variable_scope(\"G_residual_block_1\", reuse=tf.AUTO_REUSE):\n",
    "        gen_G_layer_4 = residual_block(gen_G_layer_3, \"G_residual_block_1\")\n",
    "    with tf.variable_scope(\"G_residual_block_2\", reuse=tf.AUTO_REUSE):\n",
    "        gen_G_layer_5 = residual_block(gen_G_layer_4, \"G_residual_block_2\")\n",
    "    with tf.variable_scope(\"G_residual_block_3\", reuse=tf.AUTO_REUSE):\n",
    "        gen_G_layer_6 = residual_block(gen_G_layer_5, \"G_residual_block_3\")\n",
    "    with tf.variable_scope(\"G_residual_block_4\", reuse=tf.AUTO_REUSE):\n",
    "        gen_G_layer_7 = residual_block(gen_G_layer_6, \"G_residual_block_4\")\n",
    "    with tf.variable_scope(\"G_residual_block_5\", reuse=tf.AUTO_REUSE):\n",
    "        gen_G_layer_8 = residual_block(gen_G_layer_7, \"G_residual_block_5\")\n",
    "    with tf.variable_scope(\"G_residual_block_6\", reuse=tf.AUTO_REUSE):\n",
    "        gen_G_layer_9 = residual_block(gen_G_layer_8, \"G_residual_block_6\")\n",
    "\n",
    "    with tf.variable_scope(\"G_upsampling_layer_1\", reuse=tf.AUTO_REUSE):\n",
    "        #apply reflection padding\n",
    "        #gen_G_layer_10 = tf.pad(gen_G_layer_9, [[0,0,], [1,1,], [1,1,], [0,0,]], \"REFLECT\")\n",
    "        gen_G_layer_10 = back_conv_layer(gen_G_layer_9, [batch_size, 16, 16, 128], 3, 2, tf.nn.relu, True)\n",
    "\n",
    "    with tf.variable_scope(\"G_upsampling_layer_2\", reuse=tf.AUTO_REUSE):\n",
    "        #apply reflection padding\n",
    "        #gen_G_layer_11 = tf.pad(gen_G_layer_10, [[0,0,], [1,1,], [1,1,], [0,0,]], \"REFLECT\")\n",
    "        gen_G_layer_11 = back_conv_layer(gen_G_layer_10, [batch_size, 32, 32, 64], 3, 2, tf.nn.relu, True)\n",
    "\n",
    "    with tf.variable_scope(\"G_last_layer\", reuse=tf.AUTO_REUSE):\n",
    "        #apply reflection padding\n",
    "        svhn_generated = tf.pad(gen_G_layer_11, [[0,0,], [3,3,], [3,3,], [0,0,]], \"REFLECT\")\n",
    "        # TODO: not sure if really tanh, paper suggests otherwise, but pytorch implementation uses tanh (makes more sense)\n",
    "        svhn_generated = conv_layer(svhn_generated, 3, 7, 1, tf.nn.tanh, True, pad=\"VALID\")\n",
    "    \n",
    "    return svhn_generated\n",
    "\n",
    "svhn_generated = G(mnist_real)"
   ]
  },
  {
   "cell_type": "code",
   "execution_count": 234,
   "metadata": {},
   "outputs": [],
   "source": [
    "# generator F: Y->X\n",
    "\n",
    "# TODO: maybe reduce numbers of kernels - runtime might be astronomical!\n",
    "# TODO: maybe reduce duplicate code\n",
    "\n",
    "svhn_real = tf.cast(next_batch_svhn[0], dtype=tf.float32)\n",
    "\n",
    "#TODO: attention! probably wrong dimensions for padding -> needs to be corrected\n",
    "# kernel size 7 -> padding 3\n",
    "\n",
    "def F(svhn_real):\n",
    "    # generator network\n",
    "    with tf.variable_scope(\"F_first_layer\", reuse=tf.AUTO_REUSE):\n",
    "        #apply reflection padding\n",
    "        padded_svhn_input = tf.pad(svhn_real, [[0,0,], [3,3,], [3,3,], [0,0,]], \"REFLECT\")\n",
    "        gen_F_layer_1 = conv_layer(padded_svhn_input, 64, 7, 1, tf.nn.relu, True, pad=\"VALID\")\n",
    "\n",
    "    with tf.variable_scope(\"F_downsampling_layer_1\", reuse=tf.AUTO_REUSE):\n",
    "        #apply reflection padding\n",
    "        #gen_F_layer_2 = tf.pad(gen_F_layer_1, [[0,0,], [1,1,], [1,1,], [0,0,]], \"REFLECT\")\n",
    "        gen_F_layer_2 = conv_layer(gen_F_layer_1, 128, 3, 2, tf.nn.relu, True)\n",
    "    with tf.variable_scope(\"F_downsampling_layer_2\", reuse=tf.AUTO_REUSE):\n",
    "        #apply reflection padding\n",
    "        #gen_F_layer_3 = tf.pad(gen_F_layer_2, [[0,0,], [1,1,], [1,1,], [0,0,]], \"REFLECT\")\n",
    "        gen_F_layer_3 = conv_layer(gen_F_layer_2, 256, 3, 2, tf.nn.relu, True)\n",
    "\n",
    "    #TODO: maybe remove variable scope for residual blocks\n",
    "    with tf.variable_scope(\"F_residual_block_1\", reuse=tf.AUTO_REUSE):\n",
    "        gen_F_layer_4 = residual_block(gen_F_layer_3, \"F_residual_block_1\")\n",
    "    with tf.variable_scope(\"F_residual_block_2\", reuse=tf.AUTO_REUSE):\n",
    "        gen_F_layer_5 = residual_block(gen_F_layer_4, \"F_residual_block_2\")\n",
    "    with tf.variable_scope(\"F_residual_block_3\", reuse=tf.AUTO_REUSE):\n",
    "        gen_F_layer_6 = residual_block(gen_F_layer_5, \"F_residual_block_3\")\n",
    "    with tf.variable_scope(\"F_residual_block_4\", reuse=tf.AUTO_REUSE):\n",
    "        gen_F_layer_7 = residual_block(gen_F_layer_6, \"F_residual_block_4\")\n",
    "    with tf.variable_scope(\"F_residual_block_5\", reuse=tf.AUTO_REUSE):\n",
    "        gen_F_layer_8 = residual_block(gen_F_layer_7, \"F_residual_block_5\")\n",
    "    with tf.variable_scope(\"F_residual_block_6\", reuse=tf.AUTO_REUSE):\n",
    "        gen_F_layer_9 = residual_block(gen_F_layer_8, \"F_residual_block_6\")\n",
    "\n",
    "    with tf.variable_scope(\"F_upsampling_layer_1\", reuse=tf.AUTO_REUSE):\n",
    "        #apply reflection padding\n",
    "        #gen_F_layer_10 = tf.pad(gen_F_layer_9, [[0,0,], [1,1,], [1,1,], [0,0,]], \"REFLECT\")\n",
    "        gen_F_layer_10 = back_conv_layer(gen_F_layer_9, [batch_size, 16, 16, 128], 3, 2, tf.nn.relu, True)\n",
    "\n",
    "    with tf.variable_scope(\"F_upsampling_layer_2\", reuse=tf.AUTO_REUSE):\n",
    "        #apply reflection padding\n",
    "        #gen_F_layer_11 = tf.pad(gen_F_layer_10, [[0,0,], [1,1,], [1,1,], [0,0,]], \"REFLECT\")\n",
    "        gen_F_layer_11 = back_conv_layer(gen_F_layer_10, [batch_size, 32, 32, 64], 3, 2, tf.nn.relu, True)\n",
    "\n",
    "    with tf.variable_scope(\"F_last_layer\", reuse=tf.AUTO_REUSE):\n",
    "        #apply reflection padding\n",
    "        # padding of 1 instead of 3 to compensate for different sizes of mnist and svhn images\n",
    "        mnist_generated = tf.pad(gen_F_layer_11, [[0,0,], [1,1,], [1,1,], [0,0,]], \"REFLECT\")\n",
    "        # TODO: not sure if really tanh, paper suggests otherwise, but pytorch implementation uses tanh (makes more sense)\n",
    "        # 1 instead of 3 kernels, because mnist images are grayscale\n",
    "        mnist_generated = conv_layer(mnist_generated, 1, 7, 1, tf.nn.tanh, True, pad = \"VALID\")\n",
    "        \n",
    "    return mnist_generated\n",
    "\n",
    "mnist_generated = F(svhn_real)"
   ]
  },
  {
   "cell_type": "markdown",
   "metadata": {},
   "source": [
    "# Discriminators"
   ]
  },
  {
   "cell_type": "code",
   "execution_count": 235,
   "metadata": {},
   "outputs": [],
   "source": [
    "# discriminator Dy (adversarial to generator G, encourages G to translate X into outputs indistinguishable from domain Y)\n",
    "# tried to discriminate between real and generated svhn images\n",
    "# TODO: replace \"something\" with discriminator input\n",
    "\n",
    "#svhn_input: real svhn image\n",
    "#svhn_output: generated svhn image\n",
    "#TODO: variable names should start with non capital letters\n",
    "Dy_input = tf.concat([svhn_real, svhn_generated],0)\n",
    "with tf.variable_scope(\"Dy_layer_C64\", reuse=tf.AUTO_REUSE):\n",
    "    #0.2 is default slope for leaky relu\n",
    "    Dy_layer_1 = conv_layer(Dy_input, 64, 4, 2, tf.nn.leaky_relu, False, pad=\"SAME\")\n",
    "with tf.variable_scope(\"Dy_layer_C128\", reuse=tf.AUTO_REUSE):\n",
    "    Dy_layer_2 = conv_layer(Dy_layer_1, 128, 4, 2, tf.nn.leaky_relu, True, pad=\"SAME\")\n",
    "with tf.variable_scope(\"Dy_layer_C256\", reuse=tf.AUTO_REUSE):\n",
    "    Dy_layer_3 = conv_layer(Dy_layer_2, 256, 4, 2, tf.nn.leaky_relu, True, pad=\"SAME\")\n",
    "with tf.variable_scope(\"Dy_layer_C512\", reuse=tf.AUTO_REUSE):\n",
    "    Dy_layer_4 = conv_layer(Dy_layer_3, 512, 4, 2, tf.nn.leaky_relu, True, pad=\"SAME\")\n",
    "with tf.variable_scope(\"Dy_output_layer\", reuse=tf.AUTO_REUSE):\n",
    "    Dy_output = conv_layer(Dy_layer_4, 1, 4, 2, tf.nn.tanh, True, pad=\"SAME\")\n",
    "    Dy_output = flatten(Dy_output)"
   ]
  },
  {
   "cell_type": "code",
   "execution_count": 236,
   "metadata": {},
   "outputs": [],
   "source": [
    "# discriminator Dx (adversarial to generator F, encourages F to translate Y into outputs indistinguishable from domain X)\n",
    "# tried to discriminate between real and generated svhn images\n",
    "#TODO: variable names should start with non capital letters\n",
    "Dx_input = tf.concat([mnist_real, mnist_generated],0)\n",
    "with tf.variable_scope(\"Dx_layer_C64\", reuse=tf.AUTO_REUSE):\n",
    "    #0.2 is default slope for leaky relu\n",
    "    Dx_layer_1 = conv_layer(Dx_input, 64, 4, 2, tf.nn.leaky_relu, False, pad=\"SAME\")\n",
    "with tf.variable_scope(\"Dx_layer_C128\", reuse=tf.AUTO_REUSE):\n",
    "    Dx_layer_2 = conv_layer(Dy_layer_1, 128, 4, 2, tf.nn.leaky_relu, True, pad=\"SAME\")\n",
    "with tf.variable_scope(\"Dx_layer_C256\", reuse=tf.AUTO_REUSE):\n",
    "    Dx_layer_3 = conv_layer(Dy_layer_2, 256, 4, 2, tf.nn.leaky_relu, True, pad=\"SAME\")\n",
    "with tf.variable_scope(\"Dx_layer_C512\", reuse=tf.AUTO_REUSE):\n",
    "    Dx_layer_4 = conv_layer(Dy_layer_3, 512, 4, 2, tf.nn.leaky_relu, True, pad=\"SAME\")\n",
    "with tf.variable_scope(\"Dx_output_layer\", reuse=tf.AUTO_REUSE):\n",
    "    Dx_output = conv_layer(Dx_layer_4, 1, 4, 2, tf.nn.tanh, True, pad=\"SAME\")\n",
    "    Dx_output = flatten(Dx_output)"
   ]
  },
  {
   "cell_type": "markdown",
   "metadata": {},
   "source": [
    "#Loss and Optimizer functions"
   ]
  },
  {
   "cell_type": "code",
   "execution_count": 237,
   "metadata": {},
   "outputs": [],
   "source": [
    "# discriminator losses\n",
    "with tf.variable_scope(\"Dy_loss\"):\n",
    "    dy_labels = tf.concat([tf.ones([batch_size,1]), tf.zeros([batch_size,1])], axis=0)\n",
    "    dy_loss = tf.losses.mean_squared_error(dy_labels, Dy_output)\n",
    "    # TODO maybe reduce mean\n",
    "with tf.variable_scope(\"Dx_loss\"):\n",
    "    dx_labels = tf.concat([tf.ones([batch_size,1]), tf.zeros([batch_size,1])], axis=0)\n",
    "    dx_loss = tf.losses.mean_squared_error(dx_labels, Dx_output)\n",
    "    # TODO maybe reduce mean\n",
    "    \n",
    "# controls the relative importance of adversarial loss and cyclic loss\n",
    "lambda_weight = 10\n",
    "    \n",
    "# technically second parametera should be F(G(mnist_real)) and G(F(svhn_real)) but I hope to save calculation time\n",
    "cycle_loss = tf.losses.absolute_difference(mnist_real, F(svhn_generated)) + tf.losses.absolute_difference(svhn_real, G(mnist_generated))\n",
    " # TODO maybe reduce mean\n",
    "\n",
    "# generator losses\n",
    "with tf.variable_scope(\"G_loss\"):\n",
    "    g_loss = lambda_weight * cycle_loss + dy_loss\n",
    "   \n",
    "    \n",
    "with tf.variable_scope(\"F_loss\"):\n",
    "    f_loss = lambda_weight * cycle_loss + dx_loss\n",
    "    \n",
    "# get the generator and discriminator variables\n",
    "with tf.variable_scope(\"variables\"):\n",
    "    trainable_variables = tf.trainable_variables()\n",
    "    dy_variables = [var for var in trainable_variables if \"Dy_\" in var.name]\n",
    "    dx_variables = [var for var in trainable_variables if \"Dx_\" in var.name]\n",
    "    g_variables = [var for var in trainable_variables if \"G_\" in var.name]\n",
    "    #print(g_variables)\n",
    "    f_variables = [var for var in trainable_variables if \"F_\" in var.name]\n",
    "    \n",
    "#todo: incorporate lambda\n",
    "with tf.variable_scope(\"optimizer\", reuse=tf.AUTO_REUSE):\n",
    "    learning_rate = 0.0002\n",
    "    beta1 = 0.5\n",
    "    \n",
    "    dy_optimizer = tf.train.AdamOptimizer(learning_rate, beta1 = beta1)\n",
    "    dx_optimizer = tf.train.AdamOptimizer(learning_rate, beta1 = beta1)\n",
    "    g_optimizer = tf.train.AdamOptimizer(learning_rate, beta1 = beta1)\n",
    "    f_optimizer = tf.train.AdamOptimizer(learning_rate, beta1 = beta1)\n",
    "    \n",
    "    # use negative loss, because discriminator wants to maximize loss (i.e. works against generator)\n",
    "    # TODO: might not work as intended, maybe change\n",
    "    dy_training_step = dy_optimizer.minimize(-dy_loss, var_list = dy_variables)\n",
    "    # use negative loss, because discriminator wants to maximize loss (i.e. works against generator)\n",
    "    # TODO: might not work as intended, maybe change\n",
    "    dx_training_step = dx_optimizer.minimize(-dx_loss, var_list = dx_variables)\n",
    "    #g_training_step = g_optimizer.minimize(g_loss, var_list = g_variables)\n",
    "    f_training_step = f_optimizer.minimize(f_loss, var_list = f_variables) "
   ]
  },
  {
   "cell_type": "markdown",
   "metadata": {},
   "source": [
    "# Training"
   ]
  },
  {
   "cell_type": "code",
   "execution_count": 238,
   "metadata": {},
   "outputs": [],
   "source": [
    "# TODO: incorporate image buffer\n",
    "# TODO: incorporate linear decay of learning rate in the second half of epochs\n",
    "# TODO: probably don't use 200 epochs - runtime might be astronomical!"
   ]
  },
  {
   "cell_type": "code",
   "execution_count": 239,
   "metadata": {},
   "outputs": [
    {
     "name": "stdout",
     "output_type": "stream",
     "text": [
      "no crash - yay\n"
     ]
    }
   ],
   "source": [
    "print(\"no crash - yay\")"
   ]
  }
 ],
 "metadata": {
  "kernelspec": {
   "display_name": "Python 3",
   "language": "python",
   "name": "python3"
  },
  "language_info": {
   "codemirror_mode": {
    "name": "ipython",
    "version": 3
   },
   "file_extension": ".py",
   "mimetype": "text/x-python",
   "name": "python",
   "nbconvert_exporter": "python",
   "pygments_lexer": "ipython3",
   "version": "3.6.7"
  }
 },
 "nbformat": 4,
 "nbformat_minor": 2
}
